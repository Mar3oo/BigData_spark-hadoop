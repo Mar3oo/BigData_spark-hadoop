{
 "cells": [
  {
   "cell_type": "code",
   "execution_count": 1,
   "id": "ef8904f8-3eb5-4bad-88d7-14b877d6bc9b",
   "metadata": {},
   "outputs": [],
   "source": [
    "from pyspark.sql.functions import *"
   ]
  },
  {
   "cell_type": "code",
   "execution_count": 2,
   "id": "db825380-0d91-45f9-a477-513838765902",
   "metadata": {},
   "outputs": [
    {
     "name": "stderr",
     "output_type": "stream",
     "text": [
      "25/05/16 23:37:09 WARN Utils: Your hostname, mar3oo-Lenovo-ideapad-320-15IKB resolves to a loopback address: 127.0.1.1; using 192.168.1.4 instead (on interface wlp3s0)\n",
      "25/05/16 23:37:09 WARN Utils: Set SPARK_LOCAL_IP if you need to bind to another address\n",
      "Setting default log level to \"WARN\".\n",
      "To adjust logging level use sc.setLogLevel(newLevel). For SparkR, use setLogLevel(newLevel).\n",
      "25/05/16 23:37:11 WARN NativeCodeLoader: Unable to load native-hadoop library for your platform... using builtin-java classes where applicable\n"
     ]
    }
   ],
   "source": [
    "from pyspark.sql import SparkSession\n",
    "\n",
    "spark = SparkSession.builder \\\n",
    "    .appName(\"ReadHDFSData\") \\\n",
    "    .config(\"spark.hadoop.fs.defaultFS\", \"hdfs://localhost:9000\") \\\n",
    "    .getOrCreate()"
   ]
  },
  {
   "cell_type": "code",
   "execution_count": 3,
   "id": "5b6d6020-59c3-4f8b-9592-a873e82ea253",
   "metadata": {},
   "outputs": [
    {
     "name": "stderr",
     "output_type": "stream",
     "text": [
      "25/05/16 23:37:25 WARN GarbageCollectionMetrics: To enable non-built-in garbage collector(s) List(G1 Concurrent GC), users should configure it(them) to spark.eventLog.gcMetrics.youngGenerationGarbageCollectors or spark.eventLog.gcMetrics.oldGenerationGarbageCollectors\n",
      "                                                                                "
     ]
    },
    {
     "name": "stdout",
     "output_type": "stream",
     "text": [
      "+---------+--------+--------------------+-----------------------+\n",
      "|    LCLid|stdorToU|            DateTime|KWH/hh (per half hour) |\n",
      "+---------+--------+--------------------+-----------------------+\n",
      "|MAC000002|     Std|2012-10-12 00:30:...|                     0 |\n",
      "|MAC000002|     Std|2012-10-12 01:00:...|                     0 |\n",
      "|MAC000002|     Std|2012-10-12 01:30:...|                     0 |\n",
      "|MAC000002|     Std|2012-10-12 02:00:...|                     0 |\n",
      "|MAC000002|     Std|2012-10-12 02:30:...|                     0 |\n",
      "|MAC000002|     Std|2012-10-12 03:00:...|                     0 |\n",
      "|MAC000002|     Std|2012-10-12 03:30:...|                     0 |\n",
      "|MAC000002|     Std|2012-10-12 04:00:...|                     0 |\n",
      "|MAC000002|     Std|2012-10-12 04:30:...|                     0 |\n",
      "|MAC000002|     Std|2012-10-12 05:00:...|                     0 |\n",
      "|MAC000002|     Std|2012-10-12 05:30:...|                     0 |\n",
      "|MAC000002|     Std|2012-10-12 06:00:...|                     0 |\n",
      "|MAC000002|     Std|2012-10-12 06:30:...|                     0 |\n",
      "|MAC000002|     Std|2012-10-12 07:00:...|                     0 |\n",
      "|MAC000002|     Std|2012-10-12 07:30:...|                     0 |\n",
      "|MAC000002|     Std|2012-10-12 08:00:...|                     0 |\n",
      "|MAC000002|     Std|2012-10-12 08:30:...|                     0 |\n",
      "|MAC000002|     Std|2012-10-12 09:00:...|                     0 |\n",
      "|MAC000002|     Std|2012-10-12 09:30:...|                     0 |\n",
      "|MAC000002|     Std|2012-10-12 10:00:...|                     0 |\n",
      "+---------+--------+--------------------+-----------------------+\n",
      "only showing top 20 rows\n",
      "\n"
     ]
    }
   ],
   "source": [
    "df = spark.read.csv(\"hdfs://localhost:9000/user/hadoop/energy_data/iot_data.csv\", header=True)\n",
    "df.show()"
   ]
  },
  {
   "cell_type": "code",
   "execution_count": 4,
   "id": "11b21a1c-3466-43e5-8d9e-9dc85f9abe86",
   "metadata": {},
   "outputs": [],
   "source": [
    "df = df.withColumnRenamed(\"KWH/hh (per half hour) \", \"KWH/hh\")"
   ]
  },
  {
   "cell_type": "code",
   "execution_count": 5,
   "id": "35932833-a341-48fc-a487-bf303791d351",
   "metadata": {},
   "outputs": [],
   "source": [
    "# Cast the column to float\n",
    "df = df.withColumn(\"KWH/hh\", col(\"KWH/hh\").cast(\"double\"))"
   ]
  },
  {
   "cell_type": "code",
   "execution_count": 6,
   "id": "ffba1e81-1078-4d69-a160-0ab8d9e464d7",
   "metadata": {},
   "outputs": [],
   "source": [
    "df = df.withColumn(\"datetime\", to_timestamp(\"datetime\", \"yyyy-MM-dd HH:mm:ss\"))"
   ]
  },
  {
   "cell_type": "code",
   "execution_count": 8,
   "id": "abe7ca73-2270-4fe1-816c-90d1bd1fc11b",
   "metadata": {},
   "outputs": [
    {
     "name": "stderr",
     "output_type": "stream",
     "text": [
      "                                                                                "
     ]
    }
   ],
   "source": [
    "'''\n",
    "# Sample 5% of data, stratified by household and tariff type\n",
    "sample_df = df.sampleBy(\"LCLid\", fractions={h: 0.0003 for h in df.select(\"LCLid\").distinct().rdd.flatMap(lambda x: x).collect()})\\\n",
    "            .sampleBy(\"stdorToU\", fractions={\"Std\": 0.0003, \"ToU\": 0.0003})\n",
    "\n",
    "# Ensure we get at least 1 record per household\n",
    "min_sample = df.groupBy(\"LCLid\").count().withColumn(\"sample\", col(\"count\")*0.0003).filter(col(\"sample\") < 1).select(\"LCLid\")\n",
    "sample_df = sample_df.union(df.join(min_sample, \"LCLid\").sample(0.0003))'''"
   ]
  },
  {
   "cell_type": "code",
   "execution_count": 10,
   "id": "df0cf660-67ab-4bd4-be98-8401b0d76528",
   "metadata": {},
   "outputs": [],
   "source": [
    "spark.conf.set(\"spark.sql.legacy.timeParserPolicy\", \"LEGACY\")"
   ]
  },
  {
   "cell_type": "code",
   "execution_count": 18,
   "id": "b530d1d6-d137-445a-9a56-8466d1329c01",
   "metadata": {},
   "outputs": [
    {
     "name": "stderr",
     "output_type": "stream",
     "text": [
      "[Stage 29:=======================================================>(63 + 1) / 64]"
     ]
    },
    {
     "name": "stdout",
     "output_type": "stream",
     "text": [
      "Sampled 50,608 rows (original: 167,932,474)\n"
     ]
    },
    {
     "name": "stderr",
     "output_type": "stream",
     "text": [
      "                                                                                "
     ]
    }
   ],
   "source": [
    "# Register DataFrame as a temp view\n",
    "df.createOrReplaceTempView(\"energy_data\")\n",
    "\n",
    "# Sample 0.0003 using SQL RAND() - avoids RDD operations\n",
    "sample_df = spark.sql(\"\"\"\n",
    "  SELECT * FROM energy_data \n",
    "  WHERE RAND() <= 0.0003  -- 0.03% sample\n",
    "\"\"\")\n",
    "\n",
    "# Verify sample size\n",
    "print(f\"Sampled {sample_df.count():,} rows (original: {df.count():,})\")"
   ]
  },
  {
   "cell_type": "code",
   "execution_count": 19,
   "id": "bfd8f962-aaf0-4225-bb69-d9e035253e5c",
   "metadata": {},
   "outputs": [
    {
     "data": {
      "text/plain": [
       "DataFrame[LCLid: string, stdorToU: string, datetime: timestamp, KWH/hh: double]"
      ]
     },
     "execution_count": 19,
     "metadata": {},
     "output_type": "execute_result"
    }
   ],
   "source": [
    "sample_df"
   ]
  },
  {
   "cell_type": "code",
   "execution_count": 22,
   "id": "65790980-ca9c-4061-912f-21c80c4ca1fb",
   "metadata": {},
   "outputs": [
    {
     "name": "stderr",
     "output_type": "stream",
     "text": [
      "                                                                                "
     ]
    }
   ],
   "source": [
    "sample_pd_df = sample_df.toPandas()"
   ]
  },
  {
   "cell_type": "code",
   "execution_count": 23,
   "id": "bd6c280f-5c62-4610-ae50-96f2ac08d5bf",
   "metadata": {},
   "outputs": [
    {
     "data": {
      "text/html": [
       "<div>\n",
       "<style scoped>\n",
       "    .dataframe tbody tr th:only-of-type {\n",
       "        vertical-align: middle;\n",
       "    }\n",
       "\n",
       "    .dataframe tbody tr th {\n",
       "        vertical-align: top;\n",
       "    }\n",
       "\n",
       "    .dataframe thead th {\n",
       "        text-align: right;\n",
       "    }\n",
       "</style>\n",
       "<table border=\"1\" class=\"dataframe\">\n",
       "  <thead>\n",
       "    <tr style=\"text-align: right;\">\n",
       "      <th></th>\n",
       "      <th>LCLid</th>\n",
       "      <th>stdorToU</th>\n",
       "      <th>datetime</th>\n",
       "      <th>KWH/hh</th>\n",
       "    </tr>\n",
       "  </thead>\n",
       "  <tbody>\n",
       "    <tr>\n",
       "      <th>0</th>\n",
       "      <td>MAC000002</td>\n",
       "      <td>Std</td>\n",
       "      <td>2013-04-18 02:30:00</td>\n",
       "      <td>0.179</td>\n",
       "    </tr>\n",
       "    <tr>\n",
       "      <th>1</th>\n",
       "      <td>MAC000002</td>\n",
       "      <td>Std</td>\n",
       "      <td>2013-04-30 03:30:00</td>\n",
       "      <td>0.085</td>\n",
       "    </tr>\n",
       "    <tr>\n",
       "      <th>2</th>\n",
       "      <td>MAC000002</td>\n",
       "      <td>Std</td>\n",
       "      <td>2013-07-03 04:30:00</td>\n",
       "      <td>0.103</td>\n",
       "    </tr>\n",
       "    <tr>\n",
       "      <th>3</th>\n",
       "      <td>MAC000002</td>\n",
       "      <td>Std</td>\n",
       "      <td>2013-07-04 12:00:00</td>\n",
       "      <td>0.266</td>\n",
       "    </tr>\n",
       "    <tr>\n",
       "      <th>4</th>\n",
       "      <td>MAC000002</td>\n",
       "      <td>Std</td>\n",
       "      <td>2013-08-09 12:00:00</td>\n",
       "      <td>0.147</td>\n",
       "    </tr>\n",
       "    <tr>\n",
       "      <th>...</th>\n",
       "      <td>...</td>\n",
       "      <td>...</td>\n",
       "      <td>...</td>\n",
       "      <td>...</td>\n",
       "    </tr>\n",
       "    <tr>\n",
       "      <th>50603</th>\n",
       "      <td>MAC005564</td>\n",
       "      <td>ToU</td>\n",
       "      <td>2013-07-10 23:30:00</td>\n",
       "      <td>0.121</td>\n",
       "    </tr>\n",
       "    <tr>\n",
       "      <th>50604</th>\n",
       "      <td>MAC005564</td>\n",
       "      <td>ToU</td>\n",
       "      <td>2013-12-11 17:30:00</td>\n",
       "      <td>0.057</td>\n",
       "    </tr>\n",
       "    <tr>\n",
       "      <th>50605</th>\n",
       "      <td>MAC005564</td>\n",
       "      <td>ToU</td>\n",
       "      <td>2013-12-16 04:30:00</td>\n",
       "      <td>0.045</td>\n",
       "    </tr>\n",
       "    <tr>\n",
       "      <th>50606</th>\n",
       "      <td>MAC005564</td>\n",
       "      <td>ToU</td>\n",
       "      <td>2014-01-18 07:00:00</td>\n",
       "      <td>0.034</td>\n",
       "    </tr>\n",
       "    <tr>\n",
       "      <th>50607</th>\n",
       "      <td>MAC005564</td>\n",
       "      <td>ToU</td>\n",
       "      <td>2014-02-04 15:30:00</td>\n",
       "      <td>0.070</td>\n",
       "    </tr>\n",
       "  </tbody>\n",
       "</table>\n",
       "<p>50608 rows × 4 columns</p>\n",
       "</div>"
      ],
      "text/plain": [
       "           LCLid stdorToU            datetime  KWH/hh\n",
       "0      MAC000002      Std 2013-04-18 02:30:00   0.179\n",
       "1      MAC000002      Std 2013-04-30 03:30:00   0.085\n",
       "2      MAC000002      Std 2013-07-03 04:30:00   0.103\n",
       "3      MAC000002      Std 2013-07-04 12:00:00   0.266\n",
       "4      MAC000002      Std 2013-08-09 12:00:00   0.147\n",
       "...          ...      ...                 ...     ...\n",
       "50603  MAC005564      ToU 2013-07-10 23:30:00   0.121\n",
       "50604  MAC005564      ToU 2013-12-11 17:30:00   0.057\n",
       "50605  MAC005564      ToU 2013-12-16 04:30:00   0.045\n",
       "50606  MAC005564      ToU 2014-01-18 07:00:00   0.034\n",
       "50607  MAC005564      ToU 2014-02-04 15:30:00   0.070\n",
       "\n",
       "[50608 rows x 4 columns]"
      ]
     },
     "execution_count": 23,
     "metadata": {},
     "output_type": "execute_result"
    }
   ],
   "source": [
    "sample_pd_df"
   ]
  },
  {
   "cell_type": "code",
   "execution_count": 24,
   "id": "d520af22-903f-467b-872f-c0dc5b98da9f",
   "metadata": {},
   "outputs": [],
   "source": [
    "sample_pd_df.to_csv(\"./energy_consumption_sample.csv\", index=False)"
   ]
  },
  {
   "cell_type": "code",
   "execution_count": null,
   "id": "11bc3839-2692-4f7f-af50-e1b232d81c77",
   "metadata": {},
   "outputs": [],
   "source": []
  },
  {
   "cell_type": "code",
   "execution_count": null,
   "id": "65f7b75d-d3bc-4162-9730-2916a681b3cf",
   "metadata": {},
   "outputs": [],
   "source": []
  },
  {
   "cell_type": "code",
   "execution_count": null,
   "id": "dc95baef-010b-4cdf-9c8d-048514dfe82b",
   "metadata": {},
   "outputs": [],
   "source": []
  },
  {
   "cell_type": "code",
   "execution_count": null,
   "id": "91cddb26-8a21-4f5a-a3de-95d49d0ed0cc",
   "metadata": {},
   "outputs": [],
   "source": []
  },
  {
   "cell_type": "code",
   "execution_count": null,
   "id": "75f4a63f-e6d0-4b49-b0de-1efa2d9f14e6",
   "metadata": {},
   "outputs": [],
   "source": []
  },
  {
   "cell_type": "code",
   "execution_count": null,
   "id": "1e697457-03f5-43e5-b2e5-aad1d54a4dab",
   "metadata": {},
   "outputs": [],
   "source": []
  },
  {
   "cell_type": "code",
   "execution_count": null,
   "id": "b4f0e444-0b5c-4c3d-b766-b03b9eb465b5",
   "metadata": {},
   "outputs": [],
   "source": []
  },
  {
   "cell_type": "code",
   "execution_count": null,
   "id": "f09deee2-2405-4a5f-959b-45cb70fd0c48",
   "metadata": {},
   "outputs": [],
   "source": []
  },
  {
   "cell_type": "code",
   "execution_count": null,
   "id": "8f9577bb-6c99-407b-9929-0c160d240023",
   "metadata": {},
   "outputs": [],
   "source": []
  },
  {
   "cell_type": "code",
   "execution_count": null,
   "id": "cf691e85-e434-45ec-b45c-f96a13597677",
   "metadata": {},
   "outputs": [],
   "source": []
  }
 ],
 "metadata": {
  "kernelspec": {
   "display_name": "Python 3 (ipykernel)",
   "language": "python",
   "name": "python3"
  },
  "language_info": {
   "codemirror_mode": {
    "name": "ipython",
    "version": 3
   },
   "file_extension": ".py",
   "mimetype": "text/x-python",
   "name": "python",
   "nbconvert_exporter": "python",
   "pygments_lexer": "ipython3",
   "version": "3.12.7"
  }
 },
 "nbformat": 4,
 "nbformat_minor": 5
}
